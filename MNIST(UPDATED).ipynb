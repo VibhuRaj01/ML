{
  "cells": [
    {
      "cell_type": "code",
      "execution_count": 6,
      "metadata": {
        "id": "eeYDHobsrfBh"
      },
      "outputs": [],
      "source": [
        "import tensorflow as tf\n",
        "import matplotlib.pyplot as plt\n",
        "import numpy as np\n",
        "import cv2"
      ]
    },
    {
      "cell_type": "code",
      "execution_count": 2,
      "metadata": {
        "id": "zBI5ZY-Ern3r",
        "colab": {
          "base_uri": "https://localhost:8080/"
        },
        "outputId": "43ee12e7-171c-43c6-98e5-6d88aa7a2d5f"
      },
      "outputs": [
        {
          "output_type": "stream",
          "name": "stdout",
          "text": [
            "Downloading data from https://storage.googleapis.com/tensorflow/tf-keras-datasets/mnist.npz\n",
            "11490434/11490434 [==============================] - 1s 0us/step\n"
          ]
        }
      ],
      "source": [
        "mnist=tf.keras.datasets.mnist\n",
        "(x_train, y_train),(x_test, y_test)=mnist.load_data()"
      ]
    },
    {
      "cell_type": "code",
      "execution_count": 3,
      "metadata": {
        "colab": {
          "base_uri": "https://localhost:8080/",
          "height": 283
        },
        "id": "Wo6W54_Nr25K",
        "outputId": "3cc09baa-0383-4957-e46c-cf0f7d2f2676"
      },
      "outputs": [
        {
          "output_type": "execute_result",
          "data": {
            "text/plain": [
              "<matplotlib.image.AxesImage at 0x7fe28d083970>"
            ]
          },
          "metadata": {},
          "execution_count": 3
        },
        {
          "output_type": "display_data",
          "data": {
            "text/plain": [
              "<Figure size 432x288 with 1 Axes>"
            ],
            "image/png": "[encoded data removed]"
          },
          "metadata": {
            "needs_background": "light"
          }
        }
      ],
      "source": [
        "plt.imshow(x_train[1])"
      ]
    },
    {
      "cell_type": "code",
      "execution_count": 4,
      "metadata": {
        "colab": {
          "base_uri": "https://localhost:8080/",
          "height": 283
        },
        "id": "NozHkI-ftQXI",
        "outputId": "990d1df4-f6b5-4cd8-e0d0-e0b8e6553304"
      },
      "outputs": [
        {
          "output_type": "execute_result",
          "data": {
            "text/plain": [
              "<matplotlib.image.AxesImage at 0x7fe28cbdb0a0>"
            ]
          },
          "metadata": {},
          "execution_count": 4
        },
        {
          "output_type": "display_data",
          "data": {
            "text/plain": [
              "<Figure size 432x288 with 1 Axes>"
            ],
            "image/png": "[encoded data removed]"
          },
          "metadata": {
            "needs_background": "light"
          }
        }
      ],
      "source": [
        "plt.imshow(x_train[135])"
      ]
    },
    {
      "cell_type": "code",
      "source": [
        "r,x_train = cv2.threshold(x_train,90,255,cv2.THRESH_BINARY_INV)\n",
        "r2,x_test= cv2.threshold(x_test,90,255,cv2.THRESH_BINARY_INV)"
      ],
      "metadata": {
        "id": "DlrF7BGgUi4o"
      },
      "execution_count": 7,
      "outputs": []
    },
    {
      "cell_type": "code",
      "source": [
        "plt.imshow(x_test[16])"
      ],
      "metadata": {
        "colab": {
          "base_uri": "https://localhost:8080/",
          "height": 283
        },
        "id": "2sYW2BV5VjLs",
        "outputId": "96d625cc-81af-44ec-98b5-07b4daa277c8"
      },
      "execution_count": 8,
      "outputs": [
        {
          "output_type": "execute_result",
          "data": {
            "text/plain": [
              "<matplotlib.image.AxesImage at 0x7fe27f44ce20>"
            ]
          },
          "metadata": {},
          "execution_count": 8
        },
        {
          "output_type": "display_data",
          "data": {
            "text/plain": [
              "<Figure size 432x288 with 1 Axes>"
            ],
            "image/png": "[encoded data removed]"
          },
          "metadata": {
            "needs_background": "light"
          }
        }
      ]
    },
    {
      "cell_type": "code",
      "source": [
        "plt.imshow(x_train[5])"
      ],
      "metadata": {
        "colab": {
          "base_uri": "https://localhost:8080/",
          "height": 283
        },
        "id": "ot0ZpK-8Xg4S",
        "outputId": "4bd41945-fc28-44cd-fa24-27715fe3b0e5"
      },
      "execution_count": 9,
      "outputs": [
        {
          "output_type": "execute_result",
          "data": {
            "text/plain": [
              "<matplotlib.image.AxesImage at 0x7fe27eba0d60>"
            ]
          },
          "metadata": {},
          "execution_count": 9
        },
        {
          "output_type": "display_data",
          "data": {
            "text/plain": [
              "<Figure size 432x288 with 1 Axes>"
            ],
            "image/png": "[encoded data removed]"
          },
          "metadata": {
            "needs_background": "light"
          }
        }
      ]
    },
    {
      "cell_type": "code",
      "source": [
        "x_train=tf.keras.utils.normalize(x_train, axis=1)\n",
        "x_test=tf.keras.utils.normalize(x_test, axis=1)\n",
        "x_train.shape"
      ],
      "metadata": {
        "colab": {
          "base_uri": "https://localhost:8080/"
        },
        "id": "hW-bPSaRWhEl",
        "outputId": "f917d4ca-a81e-4014-dfde-3b5d93b07848"
      },
      "execution_count": 10,
      "outputs": [
        {
          "output_type": "execute_result",
          "data": {
            "text/plain": [
              "(60000, 28, 28)"
            ]
          },
          "metadata": {},
          "execution_count": 10
        }
      ]
    },
    {
      "cell_type": "code",
      "source": [
        "from tensorflow.keras.layers import Dense, Conv2D, MaxPool2D, Flatten\n",
        "from tensorflow.keras.models import Sequential\n",
        "\n",
        "model=Sequential()\n",
        "model.add(Conv2D(60,(3,3),activation='relu',input_shape=(28,28,1)))                   #28-3+1=26*26*60\n",
        "model.add(MaxPool2D())                                                                #26/2=13*13*60\n",
        "model.add(Conv2D(30,(3,3),activation='relu'))                                         #13-3+1=11*11*30\n",
        "model.add(MaxPool2D())                                                                #11/2=5*5*30\n",
        "model.add(Flatten())\n",
        "model.add(Dense(750,activation='relu'))\n",
        "model.add(Dense(750,activation='relu'))\n",
        "model.add(Dense(10,activation='softmax'))\n",
        "\n",
        "model.summary()"
      ],
      "metadata": {
        "colab": {
          "base_uri": "https://localhost:8080/"
        },
        "id": "Yf4FhGyet8YZ",
        "outputId": "c4a3f97e-2963-470e-852c-470d8023bd06"
      },
      "execution_count": 36,
      "outputs": [
        {
          "output_type": "stream",
          "name": "stdout",
          "text": [
            "Model: \"sequential_15\"\n",
            "_________________________________________________________________\n",
            " Layer (type)                Output Shape              Param #   \n",
            "=================================================================\n",
            " conv2d_42 (Conv2D)          (None, 26, 26, 60)        600       \n",
            "                                                                 \n",
            " max_pooling2d_26 (MaxPoolin  (None, 13, 13, 60)       0         \n",
            " g2D)                                                            \n",
            "                                                                 \n",
            " conv2d_43 (Conv2D)          (None, 11, 11, 30)        16230     \n",
            "                                                                 \n",
            " max_pooling2d_27 (MaxPoolin  (None, 5, 5, 30)         0         \n",
            " g2D)                                                            \n",
            "                                                                 \n",
            " flatten_1 (Flatten)         (None, 750)               0         \n",
            "                                                                 \n",
            " dense_29 (Dense)            (None, 750)               563250    \n",
            "                                                                 \n",
            " dense_30 (Dense)            (None, 750)               563250    \n",
            "                                                                 \n",
            " dense_31 (Dense)            (None, 10)                7510      \n",
            "                                                                 \n",
            "=================================================================\n",
            "Total params: 1,150,840\n",
            "Trainable params: 1,150,840\n",
            "Non-trainable params: 0\n",
            "_________________________________________________________________\n"
          ]
        }
      ]
    },
    {
      "cell_type": "code",
      "source": [
        "model.compile(optimizer='adam',\n",
        "              loss='sparse_categorical_crossentropy',\n",
        "              metrics=['accuracy'])\n",
        "model.fit(x_train, y_train, epochs=5)"
      ],
      "metadata": {
        "colab": {
          "base_uri": "https://localhost:8080/"
        },
        "id": "TywHo7VtxLcP",
        "outputId": "a162a189-ad1d-4cc5-9c00-5fb8b8872b5c"
      },
      "execution_count": 37,
      "outputs": [
        {
          "output_type": "stream",
          "name": "stdout",
          "text": [
            "Epoch 1/5\n",
            "1875/1875 [==============================] - 7s 3ms/step - loss: 0.1447 - accuracy: 0.9543\n",
            "Epoch 2/5\n",
            "1875/1875 [==============================] - 6s 3ms/step - loss: 0.0505 - accuracy: 0.9849\n",
            "Epoch 3/5\n",
            "1875/1875 [==============================] - 6s 3ms/step - loss: 0.0355 - accuracy: 0.9892\n",
            "Epoch 4/5\n",
            "1875/1875 [==============================] - 7s 3ms/step - loss: 0.0268 - accuracy: 0.9919\n",
            "Epoch 5/5\n",
            "1875/1875 [==============================] - 6s 3ms/step - loss: 0.0217 - accuracy: 0.9933\n"
          ]
        },
        {
          "output_type": "execute_result",
          "data": {
            "text/plain": [
              "<keras.callbacks.History at 0x7fe1e0489880>"
            ]
          },
          "metadata": {},
          "execution_count": 37
        }
      ]
    },
    {
      "cell_type": "code",
      "execution_count": 38,
      "metadata": {
        "colab": {
          "base_uri": "https://localhost:8080/"
        },
        "id": "oV-JWFVdv-1Z",
        "outputId": "72b5d024-61f1-4b2c-a084-2b4e5f64f131"
      },
      "outputs": [
        {
          "output_type": "stream",
          "name": "stdout",
          "text": [
            "313/313 [==============================] - 1s 3ms/step - loss: 0.0458 - accuracy: 0.9864\n"
          ]
        },
        {
          "output_type": "execute_result",
          "data": {
            "text/plain": [
              "(0.04583315551280975, 0.9864000082015991)"
            ]
          },
          "metadata": {},
          "execution_count": 38
        }
      ],
      "source": [
        "val_loss, val_acc = model.evaluate(x_test, y_test)\n",
        "val_loss, val_acc"
      ]
    },
    {
      "cell_type": "code",
      "execution_count": 39,
      "metadata": {
        "colab": {
          "base_uri": "https://localhost:8080/"
        },
        "id": "1243aXJvy7Tw",
        "outputId": "e9e8326b-8276-4499-a51c-c0b7b7bb7f20"
      },
      "outputs": [
        {
          "output_type": "stream",
          "name": "stdout",
          "text": [
            "313/313 [==============================] - 1s 2ms/step\n"
          ]
        }
      ],
      "source": [
        "prediction=model.predict(x_test)"
      ]
    },
    {
      "cell_type": "code",
      "source": [
        "a=input('Enter the index to be predicted:')\n",
        "A=int(a)\n",
        "print('your img is:-')\n",
        "plt.imshow(x_test[A])\n",
        "print(f'prediction is:{np.argmax(prediction[A])}')"
      ],
      "metadata": {
        "id": "_2fSaBU2ZWzh",
        "colab": {
          "base_uri": "https://localhost:8080/",
          "height": 320
        },
        "outputId": "a55c9e85-2d37-4620-bbf2-4400e91e386a"
      },
      "execution_count": 14,
      "outputs": [
        {
          "output_type": "stream",
          "name": "stdout",
          "text": [
            "Enter the index to be predicted:6\n",
            "your img is:-\n",
            "prediction is:4\n"
          ]
        },
        {
          "output_type": "display_data",
          "data": {
            "text/plain": [
              "<Figure size 432x288 with 1 Axes>"
            ],
            "image/png": "[encoded data removed]"
          },
          "metadata": {
            "needs_background": "light"
          }
        }
      ]
    },
    {
      "cell_type": "code",
      "execution_count": 50,
      "metadata": {
        "colab": {
          "base_uri": "https://localhost:8080/",
          "height": 287
        },
        "id": "RoyFOjxYZGTk",
        "outputId": "26032483-88d0-4096-d8a7-95dd4a8a4ac8"
      },
      "outputs": [
        {
          "output_type": "execute_result",
          "data": {
            "text/plain": [
              "<matplotlib.image.AxesImage at 0x7fe1e0143a90>"
            ]
          },
          "metadata": {},
          "execution_count": 50
        },
        {
          "output_type": "display_data",
          "data": {
            "text/plain": [
              "<Figure size 432x288 with 1 Axes>"
            ],
            "image/png": "[encoded data removed]"
          },
          "metadata": {
            "needs_background": "light"
          }
        }
      ],
      "source": [
        "File=r'/content/20221116_131005.jpg'\n",
        "A=plt.imread(File)\n",
        "plt.imshow(A)"
      ]
    },
    {
      "cell_type": "code",
      "source": [
        "A.shape"
      ],
      "metadata": {
        "colab": {
          "base_uri": "https://localhost:8080/"
        },
        "id": "HDpeYya7P0vq",
        "outputId": "380e4ae3-8ea2-462f-cf9b-33bd5e9aaf30"
      },
      "execution_count": 51,
      "outputs": [
        {
          "output_type": "execute_result",
          "data": {
            "text/plain": [
              "(260, 221, 3)"
            ]
          },
          "metadata": {},
          "execution_count": 51
        }
      ]
    },
    {
      "cell_type": "code",
      "execution_count": 52,
      "metadata": {
        "colab": {
          "base_uri": "https://localhost:8080/"
        },
        "id": "-rS6gvnBaCvV",
        "outputId": "67ca5e3e-febf-4d31-cfb8-868837c0bdc5"
      },
      "outputs": [
        {
          "output_type": "stream",
          "name": "stdout",
          "text": [
            "[[[152 152 152]\n",
            "  [151 151 151]\n",
            "  [152 152 150]\n",
            "  ...\n",
            "  [151 151 149]\n",
            "  [151 151 151]\n",
            "  [152 152 152]]\n",
            "\n",
            " [[152 152 152]\n",
            "  [153 153 153]\n",
            "  [151 151 151]\n",
            "  ...\n",
            "  [152 152 150]\n",
            "  [152 152 152]\n",
            "  [151 151 151]]\n",
            "\n",
            " [[152 152 152]\n",
            "  [151 151 151]\n",
            "  [151 151 151]\n",
            "  ...\n",
            "  [153 153 153]\n",
            "  [152 152 152]\n",
            "  [152 152 152]]\n",
            "\n",
            " ...\n",
            "\n",
            " [[152 150 151]\n",
            "  [153 151 152]\n",
            "  [152 150 151]\n",
            "  ...\n",
            "  [156 156 156]\n",
            "  [160 158 159]\n",
            "  [155 153 154]]\n",
            "\n",
            " [[159 159 159]\n",
            "  [152 152 152]\n",
            "  [151 151 151]\n",
            "  ...\n",
            "  [156 156 156]\n",
            "  [157 155 156]\n",
            "  [155 153 154]]\n",
            "\n",
            " [[153 153 153]\n",
            "  [150 150 150]\n",
            "  [150 150 150]\n",
            "  ...\n",
            "  [154 154 154]\n",
            "  [155 153 154]\n",
            "  [154 152 153]]]\n"
          ]
        }
      ],
      "source": [
        "A=cv2.resize(A,(28,28))\n",
        "\n",
        "A=np.array(A).astype('uint8')\n",
        "print(A)"
      ]
    },
    {
      "cell_type": "code",
      "execution_count": 53,
      "metadata": {
        "colab": {
          "base_uri": "https://localhost:8080/",
          "height": 283
        },
        "id": "khT8s9p3aUiZ",
        "outputId": "2616d5b3-fa86-4fad-f896-1f3fb379891e"
      },
      "outputs": [
        {
          "output_type": "execute_result",
          "data": {
            "text/plain": [
              "<matplotlib.image.AxesImage at 0x7fe1e01cff40>"
            ]
          },
          "metadata": {},
          "execution_count": 53
        },
        {
          "output_type": "display_data",
          "data": {
            "text/plain": [
              "<Figure size 432x288 with 1 Axes>"
            ],
            "image/png": "[encoded data removed]"
          },
          "metadata": {
            "needs_background": "light"
          }
        }
      ],
      "source": [
        "plt.imshow(A)"
      ]
    },
    {
      "cell_type": "code",
      "execution_count": 54,
      "metadata": {
        "id": "5qhSi8izbZge"
      },
      "outputs": [],
      "source": [
        "A=cv2.cvtColor(A, cv2.COLOR_BGR2GRAY)"
      ]
    },
    {
      "cell_type": "code",
      "source": [
        "ret,thresh = cv2.threshold(A,100,255,cv2.THRESH_BINARY_INV)\n",
        "plt.imshow(thresh)"
      ],
      "metadata": {
        "colab": {
          "base_uri": "https://localhost:8080/",
          "height": 283
        },
        "id": "4cM64RZtaCIP",
        "outputId": "ecc2a940-e896-4210-a730-640d43883fb5"
      },
      "execution_count": 55,
      "outputs": [
        {
          "output_type": "execute_result",
          "data": {
            "text/plain": [
              "<matplotlib.image.AxesImage at 0x7fe1e007e0a0>"
            ]
          },
          "metadata": {},
          "execution_count": 55
        },
        {
          "output_type": "display_data",
          "data": {
            "text/plain": [
              "<Figure size 432x288 with 1 Axes>"
            ],
            "image/png": "[encoded data removed]"
          },
          "metadata": {
            "needs_background": "light"
          }
        }
      ]
    },
    {
      "cell_type": "code",
      "source": [
        "A=tf.keras.utils.normalize(A, axis=1)\n",
        "A=np.reshape(A, (1, 28, 28))\n",
        "A.shape"
      ],
      "metadata": {
        "colab": {
          "base_uri": "https://localhost:8080/"
        },
        "id": "Vsl2qKR9arsP",
        "outputId": "d45ede25-a511-4f72-9a89-8334d48c0567"
      },
      "execution_count": 56,
      "outputs": [
        {
          "output_type": "execute_result",
          "data": {
            "text/plain": [
              "(1, 28, 28)"
            ]
          },
          "metadata": {},
          "execution_count": 56
        }
      ]
    },
    {
      "cell_type": "code",
      "execution_count": 57,
      "metadata": {
        "id": "kWAXzmG9ayEl",
        "colab": {
          "base_uri": "https://localhost:8080/"
        },
        "outputId": "86f83cf5-b9fe-4e12-ee03-6fce0535d919"
      },
      "outputs": [
        {
          "output_type": "stream",
          "name": "stdout",
          "text": [
            "1/1 [==============================] - 0s 16ms/step\n"
          ]
        },
        {
          "output_type": "execute_result",
          "data": {
            "text/plain": [
              "9"
            ]
          },
          "metadata": {},
          "execution_count": 57
        }
      ],
      "source": [
        "Predic=model.predict(A)\n",
        "np.argmax(Predic)"
      ]
    }
  ],
  "metadata": {
    "accelerator": "GPU",
    "colab": {
      "provenance": []
    },
    "gpuClass": "standard",
    "kernelspec": {
      "display_name": "Python 3",
      "name": "python3"
    },
    "language_info": {
      "name": "python"
    }
  },
  "nbformat": 4,
  "nbformat_minor": 0
}