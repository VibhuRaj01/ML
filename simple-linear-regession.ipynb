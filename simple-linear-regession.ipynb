{
  "nbformat": 4,
  "nbformat_minor": 0,
  "metadata": {
    "colab": {
      "name": "Simple linear regession",
      "provenance": [],
      "collapsed_sections": [],
      "authorship_tag": "ABX9TyNtO7nKyH2ht+Djjkn8YfL4",
      "include_colab_link": true
    },
    "kernelspec": {
      "name": "python3",
      "display_name": "Python 3"
    },
    "language_info": {
      "name": "python"
    }
  },
  "cells": [
    {
      "cell_type": "markdown",
      "metadata": {
        "id": "view-in-github",
        "colab_type": "text"
      },
      "source": [
        "<a href=\"https://colab.research.google.com/gist/VibhuRaj01/53b6295b9c93b3be7e45fa7538d582d4/simple-linear-regession.ipynb\" target=\"_parent\"><img src=\"https://colab.research.google.com/assets/colab-badge.svg\" alt=\"Open In Colab\"/></a>"
      ]
    },
    {
      "cell_type": "code",
      "source": [
        "! kaggle datasets download -d tanuprabhu/linear-regression-dataset"
      ],
      "metadata": {
        "colab": {
          "base_uri": "https://localhost:8080/"
        },
        "id": "rROze4NhLsPK",
        "outputId": "7b34bdd7-3e54-456f-a23b-f434a6e61d92"
      },
      "execution_count": null,
      "outputs": [
        {
          "output_type": "stream",
          "name": "stdout",
          "text": [
            "linear-regression-dataset.zip: Skipping, found more recently modified local copy (use --force to force download)\n",
            "unzip:  cannot find or open linear-regression-dataset.csv.zip, linear-regression-dataset.csv.zip.zip or linear-regression-dataset.csv.zip.ZIP.\n"
          ]
        }
      ]
    },
    {
      "cell_type": "code",
      "source": [
        "!unzip -q linear-regression-dataset.zip -d ."
      ],
      "metadata": {
        "id": "qDBNixUCM-0m"
      },
      "execution_count": null,
      "outputs": []
    },
    {
      "cell_type": "code",
      "source": [
        "import numpy as np\n",
        "import pandas as pd\n",
        "import matplotlib.pyplot as plt\n",
        "from sklearn.linear_model import LinearRegression\n",
        "from sklearn.model_selection import train_test_split"
      ],
      "metadata": {
        "id": "wGUTnIVnNBLs"
      },
      "execution_count": null,
      "outputs": []
    },
    {
      "cell_type": "code",
      "source": [
        "data=pd.read_csv('/content/Linear Regression - Sheet1.csv')\n",
        "data.info"
      ],
      "metadata": {
        "colab": {
          "base_uri": "https://localhost:8080/"
        },
        "id": "2xTacXKzNtne",
        "outputId": "c7c4bdea-ab8e-422f-f834-f665dab07130"
      },
      "execution_count": null,
      "outputs": [
        {
          "output_type": "execute_result",
          "data": {
            "text/plain": [
              "<bound method DataFrame.info of        X           Y\n",
              "0      1    3.888889\n",
              "1      2    4.555556\n",
              "2      3    5.222222\n",
              "3      4    5.888889\n",
              "4      5    6.555556\n",
              "..   ...         ...\n",
              "295  296  200.555556\n",
              "296  297  201.222222\n",
              "297  298  201.888889\n",
              "298  299    1.888889\n",
              "299  300    1.888889\n",
              "\n",
              "[300 rows x 2 columns]>"
            ]
          },
          "metadata": {},
          "execution_count": 15
        }
      ]
    },
    {
      "cell_type": "code",
      "source": [
        "X = data['X'].values\n",
        "y = data['Y'].values\n",
        "y[1:10]"
      ],
      "metadata": {
        "colab": {
          "base_uri": "https://localhost:8080/"
        },
        "id": "uGdTTnlqN-2v",
        "outputId": "73b9c4f2-259c-48d2-8913-629cbecaf757"
      },
      "execution_count": null,
      "outputs": [
        {
          "output_type": "execute_result",
          "data": {
            "text/plain": [
              "array([4.55555556, 5.22222222, 5.88888889, 6.55555556, 7.22222222,\n",
              "       7.88888889, 8.55555556, 9.22222222, 9.88888889])"
            ]
          },
          "metadata": {},
          "execution_count": 21
        }
      ]
    },
    {
      "cell_type": "code",
      "source": [
        "train_X = X.reshape(-1,1)\n",
        "train_y = y\n",
        "\n",
        "test_X = X.reshape(-1,1)\n",
        "test_y = y"
      ],
      "metadata": {
        "id": "-xhWl-KePGDl"
      },
      "execution_count": null,
      "outputs": []
    },
    {
      "cell_type": "code",
      "source": [
        "model = LinearRegression()\n",
        "model.fit(train_X,train_y)\n",
        "predict_y = model.predict(test_X.reshape(-1,1))\n",
        "accuracy = model.score(test_X,test_y)\n",
        "accuracy"
      ],
      "metadata": {
        "colab": {
          "base_uri": "https://localhost:8080/"
        },
        "id": "Sa3c8VkvPP4p",
        "outputId": "c1e1dbcb-48c5-4324-8791-cf86de150f38"
      },
      "execution_count": null,
      "outputs": [
        {
          "output_type": "execute_result",
          "data": {
            "text/plain": [
              "0.9213615685311795"
            ]
          },
          "metadata": {},
          "execution_count": 26
        }
      ]
    },
    {
      "cell_type": "code",
      "source": [
        "plt.figure(figsize=(8,4))\n",
        "plt.title(\"Training set\")\n",
        "plt.scatter(train_X, train_y)\n",
        "plt.plot(train_X, model.predict(train_X), color='red')\n",
        "\n",
        "plt.figure(figsize=(8,4))\n",
        "plt.title(\"Testing set\")\n",
        "plt.scatter(test_X, test_y)\n",
        "plt.plot(test_X, model.predict(test_X), color='red')"
      ],
      "metadata": {
        "colab": {
          "base_uri": "https://localhost:8080/",
          "height": 562
        },
        "id": "JF4xekIxPixo",
        "outputId": "37dfedde-6f8b-48f9-94bb-432d40b2b12c"
      },
      "execution_count": null,
      "outputs": [
        {
          "output_type": "execute_result",
          "data": {
            "text/plain": [
              "[<matplotlib.lines.Line2D at 0x7f30f0b8e050>]"
            ]
          },
          "metadata": {},
          "execution_count": 30
        },
        {
          "output_type": "display_data",
          "data": {
            "text/plain": [
              "<Figure size 576x288 with 1 Axes>"
            ],
            "image/png": "[encoded data removed]"
          },
          "metadata": {
            "needs_background": "light"
          }
        },
        {
          "output_type": "display_data",
          "data": {
            "text/plain": [
              "<Figure size 576x288 with 1 Axes>"
            ],
            "image/png": "[encoded data removed]"
          },
          "metadata": {
            "needs_background": "light"
          }
        }
      ]
    },
    {
      "cell_type": "markdown",
      "source": [
        ""
      ],
      "metadata": {
        "id": "AGGHgrrIN242"
      }
    }
  ]
}